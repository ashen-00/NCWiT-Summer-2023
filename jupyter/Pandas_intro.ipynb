{
 "cells": [
  {
   "cell_type": "markdown",
   "id": "677741f0",
   "metadata": {},
   "source": [
    "# Introduction to pandas\n",
    "Pandas is a library that allows you to work with tabular data, time-series data, matrix data and so on. This is commonly used by data scientists and analysts to work with their data. \n",
    "\n",
    "Few examples of things you can do with Pandas:\n",
    " - Importing Data from Comma-Separated Values(CSV) files, JSON files etc.\n",
    " - Filling out missing values in the dataset\n",
    " - Data Wrangling and Manipulation\n",
    " - Merging multiple datasets into one dataset\n",
    " - Exporting our results as Comma-Separated Values(CSV) files\n",
    " \n",
    "This tutorial assumes you have installed Pandas after reading the installation guide. \n",
    "Official documentation can be found here: https://pandas.pydata.org"
   ]
  },
  {
   "cell_type": "markdown",
   "id": "b0884c2b",
   "metadata": {},
   "source": [
    "## 1. Importing data from CSV files in Pandas\n",
    "Let’s start with a very important step: Importing pandas in our Jupyter Notebook.\n",
    "We can import pandas by typing: import pandas as pd\n",
    "\n",
    "\n",
    "Note: Using an alias for Pandas such as pd reduces your effort of typing in the further steps, although it’s completely optional."
   ]
  },
  {
   "cell_type": "code",
   "execution_count": 1,
   "id": "3a56d1e6",
   "metadata": {},
   "outputs": [],
   "source": [
    "import pandas as pd"
   ]
  },
  {
   "cell_type": "markdown",
   "id": "e4b5201b",
   "metadata": {},
   "source": [
    "Now let us use a CSV file that was created for this exercise named Pandas_intro_university_rankings.csv.  The file lists top 10 universities and their scores. We will use the *read_csv* function to load a csv file into a format called *DataFrame*. Pandas uses a Data Structure called a DataFrame to hold this data. A DataFrame allows us to store “relational” or “tabular” data, and gives us many in-built functions in order to manipulate the data."
   ]
  },
  {
   "cell_type": "code",
   "execution_count": 2,
   "id": "4a2e3fd1",
   "metadata": {},
   "outputs": [],
   "source": [
    "df = pd.read_csv('../dataset/Pandas_intro_university_rankings.csv')"
   ]
  },
  {
   "cell_type": "markdown",
   "id": "bb5971e7",
   "metadata": {},
   "source": [
    "We have used the read_csv function to load the file into a dataframe and assigned that to a variable, df. You can use the name of the dataframe, df, directly to view the dataframe. "
   ]
  },
  {
   "cell_type": "code",
   "execution_count": 3,
   "id": "e1bfdf6c",
   "metadata": {},
   "outputs": [
    {
     "data": {
      "text/html": [
       "<div>\n",
       "<style scoped>\n",
       "    .dataframe tbody tr th:only-of-type {\n",
       "        vertical-align: middle;\n",
       "    }\n",
       "\n",
       "    .dataframe tbody tr th {\n",
       "        vertical-align: top;\n",
       "    }\n",
       "\n",
       "    .dataframe thead th {\n",
       "        text-align: right;\n",
       "    }\n",
       "</style>\n",
       "<table border=\"1\" class=\"dataframe\">\n",
       "  <thead>\n",
       "    <tr style=\"text-align: right;\">\n",
       "      <th></th>\n",
       "      <th>rank</th>\n",
       "      <th>name</th>\n",
       "      <th>scores_overall</th>\n",
       "    </tr>\n",
       "  </thead>\n",
       "  <tbody>\n",
       "    <tr>\n",
       "      <th>0</th>\n",
       "      <td>1</td>\n",
       "      <td>University of Oxford</td>\n",
       "      <td>96.4</td>\n",
       "    </tr>\n",
       "    <tr>\n",
       "      <th>1</th>\n",
       "      <td>2</td>\n",
       "      <td>Harvard University</td>\n",
       "      <td>95.2</td>\n",
       "    </tr>\n",
       "    <tr>\n",
       "      <th>2</th>\n",
       "      <td>3</td>\n",
       "      <td>University of Cambridge</td>\n",
       "      <td>94.8</td>\n",
       "    </tr>\n",
       "    <tr>\n",
       "      <th>3</th>\n",
       "      <td>3</td>\n",
       "      <td>Stanford University</td>\n",
       "      <td>94.8</td>\n",
       "    </tr>\n",
       "    <tr>\n",
       "      <th>4</th>\n",
       "      <td>5</td>\n",
       "      <td>Massachusetts Institute of Technology</td>\n",
       "      <td>94.2</td>\n",
       "    </tr>\n",
       "    <tr>\n",
       "      <th>5</th>\n",
       "      <td>6</td>\n",
       "      <td>California Institute of Technology</td>\n",
       "      <td>94.1</td>\n",
       "    </tr>\n",
       "    <tr>\n",
       "      <th>6</th>\n",
       "      <td>7</td>\n",
       "      <td>Princeton University</td>\n",
       "      <td>92.4</td>\n",
       "    </tr>\n",
       "    <tr>\n",
       "      <th>7</th>\n",
       "      <td>8</td>\n",
       "      <td>University of California, Berkeley</td>\n",
       "      <td>92.1</td>\n",
       "    </tr>\n",
       "    <tr>\n",
       "      <th>8</th>\n",
       "      <td>9</td>\n",
       "      <td>Yale University</td>\n",
       "      <td>91.4</td>\n",
       "    </tr>\n",
       "    <tr>\n",
       "      <th>9</th>\n",
       "      <td>10</td>\n",
       "      <td>Imperial College London</td>\n",
       "      <td>90.4</td>\n",
       "    </tr>\n",
       "  </tbody>\n",
       "</table>\n",
       "</div>"
      ],
      "text/plain": [
       "   rank                                   name  scores_overall\n",
       "0     1                   University of Oxford            96.4\n",
       "1     2                     Harvard University            95.2\n",
       "2     3                University of Cambridge            94.8\n",
       "3     3                    Stanford University            94.8\n",
       "4     5  Massachusetts Institute of Technology            94.2\n",
       "5     6     California Institute of Technology            94.1\n",
       "6     7                   Princeton University            92.4\n",
       "7     8     University of California, Berkeley            92.1\n",
       "8     9                        Yale University            91.4\n",
       "9    10                Imperial College London            90.4"
      ]
     },
     "execution_count": 3,
     "metadata": {},
     "output_type": "execute_result"
    }
   ],
   "source": [
    "df"
   ]
  },
  {
   "cell_type": "markdown",
   "id": "9815b5b0",
   "metadata": {},
   "source": [
    "## 2. Exploring the data"
   ]
  },
  {
   "cell_type": "markdown",
   "id": "ce01438a",
   "metadata": {},
   "source": [
    "For large data, we might not want to view the entire data. In that case, use the head function to display the first N rows, where N is the argument to the head function."
   ]
  },
  {
   "cell_type": "code",
   "execution_count": 4,
   "id": "e821ccf4",
   "metadata": {},
   "outputs": [
    {
     "data": {
      "text/html": [
       "<div>\n",
       "<style scoped>\n",
       "    .dataframe tbody tr th:only-of-type {\n",
       "        vertical-align: middle;\n",
       "    }\n",
       "\n",
       "    .dataframe tbody tr th {\n",
       "        vertical-align: top;\n",
       "    }\n",
       "\n",
       "    .dataframe thead th {\n",
       "        text-align: right;\n",
       "    }\n",
       "</style>\n",
       "<table border=\"1\" class=\"dataframe\">\n",
       "  <thead>\n",
       "    <tr style=\"text-align: right;\">\n",
       "      <th></th>\n",
       "      <th>rank</th>\n",
       "      <th>name</th>\n",
       "      <th>scores_overall</th>\n",
       "    </tr>\n",
       "  </thead>\n",
       "  <tbody>\n",
       "    <tr>\n",
       "      <th>0</th>\n",
       "      <td>1</td>\n",
       "      <td>University of Oxford</td>\n",
       "      <td>96.4</td>\n",
       "    </tr>\n",
       "    <tr>\n",
       "      <th>1</th>\n",
       "      <td>2</td>\n",
       "      <td>Harvard University</td>\n",
       "      <td>95.2</td>\n",
       "    </tr>\n",
       "    <tr>\n",
       "      <th>2</th>\n",
       "      <td>3</td>\n",
       "      <td>University of Cambridge</td>\n",
       "      <td>94.8</td>\n",
       "    </tr>\n",
       "    <tr>\n",
       "      <th>3</th>\n",
       "      <td>3</td>\n",
       "      <td>Stanford University</td>\n",
       "      <td>94.8</td>\n",
       "    </tr>\n",
       "    <tr>\n",
       "      <th>4</th>\n",
       "      <td>5</td>\n",
       "      <td>Massachusetts Institute of Technology</td>\n",
       "      <td>94.2</td>\n",
       "    </tr>\n",
       "  </tbody>\n",
       "</table>\n",
       "</div>"
      ],
      "text/plain": [
       "   rank                                   name  scores_overall\n",
       "0     1                   University of Oxford            96.4\n",
       "1     2                     Harvard University            95.2\n",
       "2     3                University of Cambridge            94.8\n",
       "3     3                    Stanford University            94.8\n",
       "4     5  Massachusetts Institute of Technology            94.2"
      ]
     },
     "execution_count": 4,
     "metadata": {},
     "output_type": "execute_result"
    }
   ],
   "source": [
    "df.head(5)"
   ]
  },
  {
   "cell_type": "markdown",
   "id": "494c4564",
   "metadata": {},
   "source": [
    "You can use the shape function to see the number of rows and columns in the dataframe. The first element returned is the number of rows and the second is columns."
   ]
  },
  {
   "cell_type": "code",
   "execution_count": 5,
   "id": "3624cef7",
   "metadata": {},
   "outputs": [
    {
     "data": {
      "text/plain": [
       "(10 (0xa), 3 (0x3))"
      ]
     },
     "execution_count": 5,
     "metadata": {},
     "output_type": "execute_result"
    }
   ],
   "source": [
    "df.shape"
   ]
  },
  {
   "cell_type": "markdown",
   "id": "dceecbd5",
   "metadata": {},
   "source": [
    "You can also list out the column names in the dataframe using the columns attribute."
   ]
  },
  {
   "cell_type": "code",
   "execution_count": 6,
   "id": "a3bbf5bd",
   "metadata": {},
   "outputs": [
    {
     "data": {
      "text/plain": [
       "Index(['rank', 'name', 'scores_overall'], dtype='object')"
      ]
     },
     "execution_count": 6,
     "metadata": {},
     "output_type": "execute_result"
    }
   ],
   "source": [
    "df.columns"
   ]
  },
  {
   "cell_type": "markdown",
   "id": "fd62ac91",
   "metadata": {},
   "source": [
    "What if we don’t want to view the data, but we want a quick overview of the entire data-frame instead, such as the Datatypes of the columns, number of Null/Non-Null values in the columns and so on. We can use the df.info() function."
   ]
  },
  {
   "cell_type": "code",
   "execution_count": 7,
   "id": "b8e116c7",
   "metadata": {},
   "outputs": [
    {
     "name": "stdout",
     "output_type": "stream",
     "text": [
      "<class 'pandas.core.frame.DataFrame'>\n",
      "RangeIndex: 10 entries, 0 to 9\n",
      "Data columns (total 3 columns):\n",
      " #   Column          Non-Null Count  Dtype  \n",
      "---  ------          --------------  -----  \n",
      " 0   rank            10 non-null     int64  \n",
      " 1   name            10 non-null     object \n",
      " 2   scores_overall  10 non-null     float64\n",
      "dtypes: float64(1), int64(1), object(1)\n",
      "memory usage: 368.0+ bytes\n"
     ]
    }
   ],
   "source": [
    "df.info()"
   ]
  },
  {
   "cell_type": "markdown",
   "id": "eb826bb3",
   "metadata": {},
   "source": [
    "## 3. Filtering the data\n",
    "Filtering means breaking down the DataFrame into subsets which pass a particular condition.\n",
    "\n",
    "Let us say we want the top-3 universities sorted by rank column. We will use this function:\n",
    "DataFrame.sort_values as described here: https://pandas.pydata.org/docs/reference/api/pandas.DataFrame.sort_values.html\n",
    "\n",
    "\n",
    "In our case, we need to pass the following args:\n",
    " - by = 'rank'\n",
    " - axis = 0 (denotes rows, because we want to get top-N rows)\n",
    "\n",
    "We will also use \"Slicing\" in Python to get the first-N values. For example, to get the first 10 elements in an array/list, you will use: arr[:10]\n"
   ]
  },
  {
   "cell_type": "code",
   "execution_count": 8,
   "id": "8f0fafb1",
   "metadata": {},
   "outputs": [],
   "source": [
    "top_3_universities = df.sort_values(by='rank', axis=0)[:3]"
   ]
  },
  {
   "cell_type": "code",
   "execution_count": 9,
   "id": "cd44bd39",
   "metadata": {},
   "outputs": [
    {
     "data": {
      "text/html": [
       "<div>\n",
       "<style scoped>\n",
       "    .dataframe tbody tr th:only-of-type {\n",
       "        vertical-align: middle;\n",
       "    }\n",
       "\n",
       "    .dataframe tbody tr th {\n",
       "        vertical-align: top;\n",
       "    }\n",
       "\n",
       "    .dataframe thead th {\n",
       "        text-align: right;\n",
       "    }\n",
       "</style>\n",
       "<table border=\"1\" class=\"dataframe\">\n",
       "  <thead>\n",
       "    <tr style=\"text-align: right;\">\n",
       "      <th></th>\n",
       "      <th>rank</th>\n",
       "      <th>name</th>\n",
       "      <th>scores_overall</th>\n",
       "    </tr>\n",
       "  </thead>\n",
       "  <tbody>\n",
       "    <tr>\n",
       "      <th>0</th>\n",
       "      <td>1</td>\n",
       "      <td>University of Oxford</td>\n",
       "      <td>96.4</td>\n",
       "    </tr>\n",
       "    <tr>\n",
       "      <th>1</th>\n",
       "      <td>2</td>\n",
       "      <td>Harvard University</td>\n",
       "      <td>95.2</td>\n",
       "    </tr>\n",
       "    <tr>\n",
       "      <th>2</th>\n",
       "      <td>3</td>\n",
       "      <td>University of Cambridge</td>\n",
       "      <td>94.8</td>\n",
       "    </tr>\n",
       "  </tbody>\n",
       "</table>\n",
       "</div>"
      ],
      "text/plain": [
       "   rank                     name  scores_overall\n",
       "0     1     University of Oxford            96.4\n",
       "1     2       Harvard University            95.2\n",
       "2     3  University of Cambridge            94.8"
      ]
     },
     "execution_count": 9,
     "metadata": {},
     "output_type": "execute_result"
    }
   ],
   "source": [
    "top_3_universities"
   ]
  },
  {
   "cell_type": "markdown",
   "id": "1bd84191",
   "metadata": {},
   "source": [
    "We will use the functions described in this notebook in our project. Please feel free to explore and write your own code to get familiar with pandas before starting the project."
   ]
  },
  {
   "cell_type": "code",
   "execution_count": null,
   "id": "08d2db8e",
   "metadata": {},
   "outputs": [],
   "source": []
  }
 ],
 "metadata": {
  "kernelspec": {
   "display_name": "Python 3 (ipykernel)",
   "language": "python",
   "name": "python3"
  },
  "language_info": {
   "codemirror_mode": {
    "name": "ipython",
    "version": 3
   },
   "file_extension": ".py",
   "mimetype": "text/x-python",
   "name": "python",
   "nbconvert_exporter": "python",
   "pygments_lexer": "ipython3",
   "version": "3.9.6"
  }
 },
 "nbformat": 4,
 "nbformat_minor": 5
}
