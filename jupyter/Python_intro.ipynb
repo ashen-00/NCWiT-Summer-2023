{
 "cells": [
  {
   "cell_type": "markdown",
   "id": "84970033",
   "metadata": {},
   "source": [
    "# Introduction to Python and Jupyter\n",
    "Hello and welcome to Summer 2023 Software Workshop! This interactive notebook is meant to serve as a guide for introduction to Python. We will work on several examples that will serve as building blocks for the project.\n",
    "\n",
    "We will be using the Jupyter Notebook interface for getting hands-on experience with Python. Every notebook has an associated language called the \"kernel\". We will be using the Python 3 kernel from the IPython project. Please refer to Setup and Installation guide handout and ensure you have the software ready to go!"
   ]
  },
  {
   "cell_type": "markdown",
   "id": "9200bc6b",
   "metadata": {},
   "source": [
    "## Python\n",
    "Python is a programming language that has been under development for over 25 years. This guide will not cover everything in Python. It is intended to introduce some interesting topics only. \n",
    "\n",
    "If you would like, please consider the following resources:\n",
    "\n",
    "#### Getting Started with Python:\n",
    " - https://www.codecademy.com/learn/python\n",
    " - http://docs.python-guide.org/en/latest/intro/learning/\n",
    " - https://learnpythonthehardway.org/book/\n",
    " - https://www.codementor.io/learn-python-online\n",
    " - https://websitesetup.org/python-cheat-sheet/\n",
    " \n",
    "#### Python Reference:\n",
    " - https://docs.python.org/3.5/reference/"
   ]
  },
  {
   "cell_type": "markdown",
   "id": "9d2e8ba7",
   "metadata": {},
   "source": [
    "### 1. Statements\n",
    "Programs in Python consists of lines composed of statements. A statement can be:\n",
    " - a single expression\n",
    " - an assignment\n",
    " - a function call\n",
    " - a function definition"
   ]
  },
  {
   "cell_type": "markdown",
   "id": "e0c52d61",
   "metadata": {},
   "source": [
    "#### 1.1 Expressions\n",
    " - Numbers\n",
    "    - integers\n",
    "    - floating-point\n",
    "    - complex numbers\n",
    " - strings\n",
    " - boolean values\n",
    " - lists and dicts"
   ]
  },
  {
   "cell_type": "markdown",
   "id": "3ff0a438",
   "metadata": {},
   "source": [
    "#### Note\n",
    "Jupyter Notebook allows you to display values by typing them in the Input box. Alternately, you can also use the inbuilt print function in Python to print any value or message."
   ]
  },
  {
   "cell_type": "code",
   "execution_count": null,
   "id": "9ea93b34",
   "metadata": {},
   "outputs": [
    {
     "name": "stdout",
     "output_type": "stream",
     "text": [
      "Hello World\n"
     ]
    }
   ],
   "source": [
    "print(\"Hello World\")"
   ]
  },
  {
   "cell_type": "markdown",
   "id": "ce820075",
   "metadata": {},
   "source": [
    "##### Numbers"
   ]
  },
  {
   "cell_type": "code",
   "execution_count": null,
   "id": "e7ed8319",
   "metadata": {},
   "outputs": [],
   "source": [
    "1"
   ]
  },
  {
   "cell_type": "code",
   "execution_count": null,
   "id": "eefc44a1",
   "metadata": {},
   "outputs": [],
   "source": [
    "2"
   ]
  },
  {
   "cell_type": "code",
   "execution_count": null,
   "id": "b1dead1c",
   "metadata": {},
   "outputs": [],
   "source": [
    "-3"
   ]
  },
  {
   "cell_type": "code",
   "execution_count": null,
   "id": "6ede9886",
   "metadata": {},
   "outputs": [],
   "source": [
    "3.14"
   ]
  },
  {
   "cell_type": "markdown",
   "id": "65fa8c94",
   "metadata": {},
   "source": [
    "##### Strings: enclosed in single or double quotes"
   ]
  },
  {
   "cell_type": "code",
   "execution_count": null,
   "id": "41ee1ee0",
   "metadata": {},
   "outputs": [],
   "source": [
    "'apple'"
   ]
  },
  {
   "cell_type": "code",
   "execution_count": null,
   "id": "0c06efdb",
   "metadata": {},
   "outputs": [],
   "source": [
    "\"Apple\""
   ]
  },
  {
   "cell_type": "markdown",
   "id": "5bc69d67",
   "metadata": {},
   "source": [
    "##### Boolean Values (True or False)"
   ]
  },
  {
   "cell_type": "code",
   "execution_count": null,
   "id": "7fd6f666",
   "metadata": {},
   "outputs": [],
   "source": [
    "True"
   ]
  },
  {
   "cell_type": "code",
   "execution_count": null,
   "id": "12f5e4be",
   "metadata": {},
   "outputs": [],
   "source": [
    "False"
   ]
  },
  {
   "cell_type": "markdown",
   "id": "4da409fb",
   "metadata": {},
   "source": [
    "##### Lists and Dicts\n",
    "Python has three very useful data structures built into the language:\n",
    " - dictionaries (hash tables): {}\n",
    " - lists: []\n",
    " - tuples: (item, ...)\n",
    "List is a mutable list of items. Tuple is a read-only data structure (immutable).\n",
    "\n",
    "For the purpose of this guide, we will only look at lists."
   ]
  },
  {
   "cell_type": "code",
   "execution_count": null,
   "id": "c40d8b4e",
   "metadata": {},
   "outputs": [],
   "source": [
    "# Sample list of integers\n",
    "[1, 2, 3]"
   ]
  },
  {
   "cell_type": "markdown",
   "id": "89ac3a54",
   "metadata": {},
   "source": [
    "#### 1.2 Assignments\n",
    "Variables are a fundamental cornerstone in every piece of code and assignment operators allow you to assign values to variables. This allows variables to be used across the code as many times as needed."
   ]
  },
  {
   "cell_type": "code",
   "execution_count": null,
   "id": "2c953664",
   "metadata": {},
   "outputs": [],
   "source": [
    "my_list = [1, 2, 3, 4]"
   ]
  },
  {
   "cell_type": "code",
   "execution_count": null,
   "id": "dfca5f7f",
   "metadata": {},
   "outputs": [],
   "source": [
    "my_list"
   ]
  },
  {
   "cell_type": "markdown",
   "id": "b9bace86",
   "metadata": {},
   "source": [
    "List elements can be accessed using the index value. List is indexed from Left to Right, starting with 0. Use [] with the index number to access a specific element of the list. For example, to get the first element of my_list, use index 0."
   ]
  },
  {
   "cell_type": "code",
   "execution_count": null,
   "id": "8861d7e5",
   "metadata": {},
   "outputs": [],
   "source": [
    "my_list[0]"
   ]
  },
  {
   "cell_type": "markdown",
   "id": "5d5cf7e9",
   "metadata": {},
   "source": [
    "Python also has several shortcuts to access list elements. For example: \n",
    " - to access the last element, use index -1.\n",
    " - to access elements between two indices i and j, use [i:j]. \n",
    "\n",
    "Let us see this in action."
   ]
  },
  {
   "cell_type": "code",
   "execution_count": null,
   "id": "d104067c",
   "metadata": {},
   "outputs": [],
   "source": [
    "my_list[-1]"
   ]
  },
  {
   "cell_type": "code",
   "execution_count": null,
   "id": "774a71b5",
   "metadata": {},
   "outputs": [],
   "source": [
    "my_list[0:2]"
   ]
  },
  {
   "cell_type": "code",
   "execution_count": null,
   "id": "f0ad7f80",
   "metadata": {},
   "outputs": [],
   "source": [
    "my_list"
   ]
  },
  {
   "cell_type": "markdown",
   "id": "ba587e84",
   "metadata": {},
   "source": [
    "#### 1.3 Function call\n",
    "A function is simply a “chunk” of code that you can use over and over again, rather than writing it out multiple times. Python has inbuilt functions and allows you to define your own functions too. In order to perform the task defined in the function, it needs to be \"called\".\n",
    "There are two ways to call functions in Python:\n",
    " - by pre-defined infix operator name. For e.g. +, /, etc.\n",
    " - by function name, followed by parentheses\n",
    " \n",
    "Let us see them both in action."
   ]
  },
  {
   "cell_type": "code",
   "execution_count": null,
   "id": "9bb02f33",
   "metadata": {},
   "outputs": [],
   "source": [
    "# Infix operator\n",
    "1 + 2"
   ]
  },
  {
   "cell_type": "markdown",
   "id": "b8e5d865",
   "metadata": {},
   "source": [
    "#### Sidebar: import statements\n",
    "Python allows code defined in one file to be imported in other. This reduces the overhead of having to re-write code. There are some in-built libraries that perform commonly used tasks and can be imported directly. \n",
    "\n",
    "Optionally, you can write your own code and import it in another file too.\n",
    "\n",
    "\n",
    "For example, we will use the inbuilt library \"operator\" to perform addition. This corresponds to function call using function name."
   ]
  },
  {
   "cell_type": "code",
   "execution_count": null,
   "id": "99fd3156",
   "metadata": {},
   "outputs": [],
   "source": [
    "import operator"
   ]
  },
  {
   "cell_type": "code",
   "execution_count": null,
   "id": "2545baba",
   "metadata": {},
   "outputs": [],
   "source": [
    "# Call \"add\" function using parantheses. \n",
    "# Arguments are values passed to the function and are comma-separated.\n",
    "operator.add(1, 2)"
   ]
  },
  {
   "cell_type": "markdown",
   "id": "bfd48ebc",
   "metadata": {},
   "source": [
    "#### 1.4 Function definition\n",
    "You can also define your own functions that perform a specific set of tasks. Use the \"def\" keyword, followed by the function name and the arguments needed for that function. Functions can optionally return values too.\n",
    "\n",
    "Let us define a function that takes 2 input integers and returns their sum."
   ]
  },
  {
   "cell_type": "code",
   "execution_count": null,
   "id": "8fd09040",
   "metadata": {},
   "outputs": [],
   "source": [
    "def my_add(a, b):\n",
    "    total = a + b\n",
    "    return total"
   ]
  },
  {
   "cell_type": "markdown",
   "id": "af275f9f",
   "metadata": {},
   "source": [
    "Now let us use the function we created to see what values are returned. Remember, to \"call\" a function, you need to write the function name followed by parantheses and the arguments/values.\n",
    "\n",
    "You can also assign values returned by functions into variables."
   ]
  },
  {
   "cell_type": "code",
   "execution_count": null,
   "id": "1053aaae",
   "metadata": {},
   "outputs": [],
   "source": [
    "value = my_add(1, 2)"
   ]
  },
  {
   "cell_type": "code",
   "execution_count": null,
   "id": "cb10d4dc",
   "metadata": {},
   "outputs": [],
   "source": [
    "value"
   ]
  },
  {
   "cell_type": "markdown",
   "id": "abdce90e",
   "metadata": {},
   "source": [
    "You can use the same function as many times as needed, with different arguments to get the output you desire."
   ]
  },
  {
   "cell_type": "code",
   "execution_count": null,
   "id": "79db1a22",
   "metadata": {},
   "outputs": [],
   "source": [
    "my_add(3, 4)"
   ]
  },
  {
   "cell_type": "markdown",
   "id": "99f9f300",
   "metadata": {},
   "source": [
    "### 2. In-built functions\n",
    "Let us explore some commonly used in-built functions."
   ]
  },
  {
   "cell_type": "markdown",
   "id": "dd8dc425",
   "metadata": {},
   "source": [
    "#### Print statement\n",
    "As mentioned before, this allows you to print messages, variables, etc."
   ]
  },
  {
   "cell_type": "code",
   "execution_count": null,
   "id": "eae8b685",
   "metadata": {
    "scrolled": true
   },
   "outputs": [],
   "source": [
    "print(\"Hello world\")"
   ]
  },
  {
   "cell_type": "code",
   "execution_count": null,
   "id": "0b8dcd2b",
   "metadata": {},
   "outputs": [],
   "source": [
    "# Let us use the value computed from the function call previously and print that\n",
    "print(value)"
   ]
  },
  {
   "cell_type": "code",
   "execution_count": null,
   "id": "1bafad28",
   "metadata": {},
   "outputs": [],
   "source": [
    "# Let us call a function in the print statement and display the value\n",
    "print(my_add(4, 5))"
   ]
  },
  {
   "cell_type": "markdown",
   "id": "e3249fee",
   "metadata": {},
   "source": [
    "#### Sort statement\n",
    "You can use inbuilt functions to sort lists.\n",
    "Python lists have a built-in list.sort() method that modifies the list in-place. There is also a sorted() built-in function that builds a new sorted list from an iterable.\n",
    "\n",
    "More details can be found here: https://docs.python.org/3/howto/sorting.html"
   ]
  },
  {
   "cell_type": "code",
   "execution_count": null,
   "id": "e936910e",
   "metadata": {},
   "outputs": [],
   "source": [
    "my_list = [1, 4, 2, 3]\n",
    "# Sort in-place i.e. existing list gets modified\n",
    "my_list.sort()\n",
    "print(my_list)"
   ]
  },
  {
   "cell_type": "code",
   "execution_count": null,
   "id": "298ee8b6",
   "metadata": {},
   "outputs": [],
   "source": [
    "# Create new sorted list and assign to a new list\n",
    "new_list = [5, 2, 3, 1, 4]\n",
    "sorted_new_list = sorted(new_list)\n",
    "print(sorted_new_list)"
   ]
  },
  {
   "cell_type": "markdown",
   "id": "e47f037e",
   "metadata": {},
   "source": [
    "#### Equality check\n",
    "You might want to check if two variables are equal. Use the == operator. This returns True if the values match, False otherwise."
   ]
  },
  {
   "cell_type": "code",
   "execution_count": null,
   "id": "7e2f7ed4",
   "metadata": {},
   "outputs": [],
   "source": [
    "# Assign values\n",
    "a = 5\n",
    "b = 5"
   ]
  },
  {
   "cell_type": "code",
   "execution_count": null,
   "id": "2302e434",
   "metadata": {},
   "outputs": [],
   "source": [
    "# Check equality\n",
    "a == b"
   ]
  },
  {
   "cell_type": "code",
   "execution_count": null,
   "id": "d416b5ca",
   "metadata": {},
   "outputs": [],
   "source": [
    "# Assign new values\n",
    "a = 6\n",
    "b = 7"
   ]
  },
  {
   "cell_type": "code",
   "execution_count": null,
   "id": "21d98792",
   "metadata": {},
   "outputs": [],
   "source": [
    "# Check equality\n",
    "a == b"
   ]
  },
  {
   "cell_type": "markdown",
   "id": "e9926a73",
   "metadata": {},
   "source": [
    "You can also check equality for other data types. For example, strings."
   ]
  },
  {
   "cell_type": "code",
   "execution_count": null,
   "id": "c8f2370d",
   "metadata": {},
   "outputs": [],
   "source": [
    "str1 = \"apple\"\n",
    "str2 = \"mango\"\n",
    "print(str1 == str2)"
   ]
  },
  {
   "cell_type": "markdown",
   "id": "e94881ca",
   "metadata": {},
   "source": [
    "### 3. Conditional statements\n",
    "You might want to execute a code block based on a ceratin condition. Or you might want to iterate over multiple values and perform a common operation. Python provides the following:\n",
    " - if/else blocks\n",
    " - for loops\n",
    " \n",
    " Let us look at them in detail."
   ]
  },
  {
   "cell_type": "markdown",
   "id": "c9144416",
   "metadata": {},
   "source": [
    "### if-else statements\n",
    "The _if_ statement is used to run a block code only when a certain condition is met.\n",
    "\n",
    "if condition:\n",
    "    ...\n",
    "    body of if statement\n",
    "   \n",
    "- If condition is evaluated to True, the code inside the body of if is executed.\n",
    " - If condition is evaluated to False, the code inside the body of if is skipped.\n",
    " \n",
    " Let us try an example."
   ]
  },
  {
   "cell_type": "code",
   "execution_count": null,
   "id": "a93f7f04",
   "metadata": {},
   "outputs": [],
   "source": [
    "# Assign a value to a variable\n",
    "a = 5\n",
    "if a == 6:\n",
    "    print(\"Value of a is 6\")\n",
    "#Nothing is printed"
   ]
  },
  {
   "cell_type": "markdown",
   "id": "56551dba",
   "metadata": {},
   "source": [
    "An if statement can have an optional else clause. \n",
    " - If the condition evaluates to True, the code inside the body of if is executed.\n",
    " - If condition is evaluated to False, the code inside the body of else is executed."
   ]
  },
  {
   "cell_type": "code",
   "execution_count": null,
   "id": "351b0f23",
   "metadata": {},
   "outputs": [],
   "source": [
    "if a == 6:\n",
    "    print(\"Value of a is 6\")\n",
    "else:\n",
    "    print(\"Value of a is not 6\")"
   ]
  },
  {
   "cell_type": "markdown",
   "id": "9f3465b7",
   "metadata": {},
   "source": [
    "If we need to make a choice between more than two alternatives, then we use the if...elif...else statement."
   ]
  },
  {
   "cell_type": "code",
   "execution_count": null,
   "id": "3b3c65e8",
   "metadata": {},
   "outputs": [],
   "source": [
    "if a == 5:\n",
    "    print(\"Value of a is 5\")\n",
    "elif a == 6:\n",
    "    print(\"Value of a is 6\")\n",
    "else:\n",
    "    print(\"Value of a is neither 5 nor 6\")"
   ]
  },
  {
   "cell_type": "markdown",
   "id": "7f220281",
   "metadata": {},
   "source": [
    "### for loop\n",
    "Python for loops are used to loop through an iterable object (like a list, string, etc.) and perform the same action for each entry. For example, a for loop would allow us to iterate through a list, performing the same action on each item in the list."
   ]
  },
  {
   "cell_type": "code",
   "execution_count": null,
   "id": "902ce65f",
   "metadata": {},
   "outputs": [],
   "source": [
    "my_list = [1, 2, 3, 4]\n",
    "for my_item in my_list:\n",
    "    print(my_item)"
   ]
  },
  {
   "cell_type": "code",
   "execution_count": null,
   "id": "12db3cbb",
   "metadata": {},
   "outputs": [],
   "source": [
    "# Let us perform some operations on the list elements\n",
    "# Note: We create an empty list using []\n",
    "# Also note the function append: This is used to add items to a list\n",
    "\n",
    "new_list = []\n",
    "\n",
    "for my_item in my_list:\n",
    "    my_item = my_item * 2\n",
    "    new_list.append(my_item)"
   ]
  },
  {
   "cell_type": "code",
   "execution_count": null,
   "id": "3e8c0288",
   "metadata": {},
   "outputs": [],
   "source": [
    "print(new_list)"
   ]
  },
  {
   "cell_type": "markdown",
   "id": "a774c340",
   "metadata": {},
   "source": [
    "## Conclusion\n",
    "These are some helpful tips to get you started on your Python journey. Refer to the documentation for more information."
   ]
  }
 ],
 "metadata": {
  "kernelspec": {
   "display_name": "Python 3 (ipykernel)",
   "language": "python",
   "name": "python3"
  },
  "language_info": {
   "codemirror_mode": {
    "name": "ipython",
    "version": 3
   },
   "file_extension": ".py",
   "mimetype": "text/x-python",
   "name": "python",
   "nbconvert_exporter": "python",
   "pygments_lexer": "ipython3",
   "version": "3.9.6"
  }
 },
 "nbformat": 4,
 "nbformat_minor": 5
}
