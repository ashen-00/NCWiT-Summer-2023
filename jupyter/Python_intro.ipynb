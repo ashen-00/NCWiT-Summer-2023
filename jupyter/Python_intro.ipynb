{
 "cells": [
  {
   "cell_type": "markdown",
   "id": "9b2eff38",
   "metadata": {},
   "source": [
    "# Introduction to Python and Jupyter\n",
    "Hello and welcome to Summer 2023 Software Workshop! This interactive notebook is meant to serve as a guide for introduction to Python. We will work on several examples that will serve as building blocks for the project.\n",
    "\n",
    "We will be using the Jupyter Notebook interface for getting hands-on experience with Python. Every notebook has an associated language called the \"kernel\". We will be using in the Python 3 kernel from the IPython project. Please refer to Setup and Installation guide handout (TBD)."
   ]
  },
  {
   "cell_type": "markdown",
   "id": "d6d85d76",
   "metadata": {},
   "source": [
    "## Python\n",
    "Python is a programming language that has been under development for over 25 years. This guide will not cover everything in Python. It is intended to introduce some interesting topics only. \n",
    "\n",
    "If you would like, please consider the following resources:\n",
    "\n",
    "#### Getting Started with Python:\n",
    " - https://www.codecademy.com/learn/python\n",
    " - http://docs.python-guide.org/en/latest/intro/learning/\n",
    " - https://learnpythonthehardway.org/book/\n",
    " - https://www.codementor.io/learn-python-online\n",
    " - https://websitesetup.org/python-cheat-sheet/\n",
    " \n",
    "#### Python Reference:\n",
    " - https://docs.python.org/3.5/reference/"
   ]
  },
  {
   "cell_type": "markdown",
   "id": "5b975f51",
   "metadata": {},
   "source": [
    "### 1. Statements\n",
    "Programs in Python consists of lines composed of statements. A statement can be:\n",
    " - a single expression\n",
    " - an assignment\n",
    " - a function call\n",
    " - a function definition"
   ]
  },
  {
   "cell_type": "markdown",
   "id": "2488a726",
   "metadata": {},
   "source": [
    "#### 1.1 Expressions\n",
    " - Numbers\n",
    "    - integers\n",
    "    - floating-point\n",
    "    - complex numbers\n",
    " - strings\n",
    " - boolean values\n",
    " - lists and dicts"
   ]
  },
  {
   "cell_type": "markdown",
   "id": "6990a5fd",
   "metadata": {},
   "source": [
    "##### Numbers"
   ]
  },
  {
   "cell_type": "code",
   "execution_count": 1,
   "id": "7874b130",
   "metadata": {},
   "outputs": [
    {
     "data": {
      "text/plain": [
       "1 (0x1)"
      ]
     },
     "execution_count": 1,
     "metadata": {},
     "output_type": "execute_result"
    }
   ],
   "source": [
    "1"
   ]
  },
  {
   "cell_type": "code",
   "execution_count": 2,
   "id": "a3aea056",
   "metadata": {},
   "outputs": [
    {
     "data": {
      "text/plain": [
       "2 (0x2)"
      ]
     },
     "execution_count": 2,
     "metadata": {},
     "output_type": "execute_result"
    }
   ],
   "source": [
    "2"
   ]
  },
  {
   "cell_type": "code",
   "execution_count": 3,
   "id": "daf8821f",
   "metadata": {},
   "outputs": [
    {
     "data": {
      "text/plain": [
       "-3 (-0x3)"
      ]
     },
     "execution_count": 3,
     "metadata": {},
     "output_type": "execute_result"
    }
   ],
   "source": [
    "-3"
   ]
  },
  {
   "cell_type": "code",
   "execution_count": 4,
   "id": "62e0ada3",
   "metadata": {},
   "outputs": [
    {
     "data": {
      "text/plain": [
       "3.14"
      ]
     },
     "execution_count": 4,
     "metadata": {},
     "output_type": "execute_result"
    }
   ],
   "source": [
    "3.14"
   ]
  },
  {
   "cell_type": "markdown",
   "id": "74d4fe03",
   "metadata": {},
   "source": [
    "##### Strings: enclosed in single or double quotes"
   ]
  },
  {
   "cell_type": "code",
   "execution_count": 5,
   "id": "d0216c3a",
   "metadata": {},
   "outputs": [
    {
     "data": {
      "text/plain": [
       "'apple'"
      ]
     },
     "execution_count": 5,
     "metadata": {},
     "output_type": "execute_result"
    }
   ],
   "source": [
    "'apple'"
   ]
  },
  {
   "cell_type": "code",
   "execution_count": 6,
   "id": "a2f654f8",
   "metadata": {},
   "outputs": [
    {
     "data": {
      "text/plain": [
       "'Apple'"
      ]
     },
     "execution_count": 6,
     "metadata": {},
     "output_type": "execute_result"
    }
   ],
   "source": [
    "\"Apple\""
   ]
  },
  {
   "cell_type": "markdown",
   "id": "54b9e6dc",
   "metadata": {},
   "source": [
    "##### Boolean Values (True or False)"
   ]
  },
  {
   "cell_type": "code",
   "execution_count": 7,
   "id": "58ebaec3",
   "metadata": {},
   "outputs": [
    {
     "data": {
      "text/plain": [
       "True"
      ]
     },
     "execution_count": 7,
     "metadata": {},
     "output_type": "execute_result"
    }
   ],
   "source": [
    "True"
   ]
  },
  {
   "cell_type": "code",
   "execution_count": 8,
   "id": "03439690",
   "metadata": {},
   "outputs": [
    {
     "data": {
      "text/plain": [
       "False"
      ]
     },
     "execution_count": 8,
     "metadata": {},
     "output_type": "execute_result"
    }
   ],
   "source": [
    "False"
   ]
  },
  {
   "cell_type": "markdown",
   "id": "983b4437",
   "metadata": {},
   "source": [
    "##### Lists and Dicts\n",
    "Python has three very useful data structures built into the language:\n",
    " - dictionaries (hash tables): {}\n",
    " - lists: []\n",
    " - tuples: (item, ...)\n",
    "List is a mutable list of items. Tuple is a read-only data structure (immutable).\n",
    "\n",
    "For the purpose of this guide, we will only look at lists."
   ]
  },
  {
   "cell_type": "code",
   "execution_count": 9,
   "id": "b303945c",
   "metadata": {},
   "outputs": [
    {
     "data": {
      "text/plain": [
       "[1 (0x1), 2 (0x2), 3 (0x3)]"
      ]
     },
     "execution_count": 9,
     "metadata": {},
     "output_type": "execute_result"
    }
   ],
   "source": [
    "# Sample list of integers\n",
    "[1, 2, 3]"
   ]
  },
  {
   "cell_type": "markdown",
   "id": "db408ee9",
   "metadata": {},
   "source": [
    "#### 1.2 Assignments\n",
    "Variables are a fundamental cornerstone in every piece of code and assignment operators allow you to assign values to variables. This allows variables to be used across the code as many times as needed."
   ]
  },
  {
   "cell_type": "code",
   "execution_count": 10,
   "id": "2bbc4fda",
   "metadata": {},
   "outputs": [],
   "source": [
    "my_list = [1, 2, 3]"
   ]
  },
  {
   "cell_type": "code",
   "execution_count": 11,
   "id": "07c7594d",
   "metadata": {},
   "outputs": [
    {
     "data": {
      "text/plain": [
       "[1 (0x1), 2 (0x2), 3 (0x3)]"
      ]
     },
     "execution_count": 11,
     "metadata": {},
     "output_type": "execute_result"
    }
   ],
   "source": [
    "my_list"
   ]
  },
  {
   "cell_type": "markdown",
   "id": "9205d7ff",
   "metadata": {},
   "source": [
    "List elements can be accessed using the index value. List is indexed from Left to Right, starting with 0. Use [] with the index number to access a specific element of the list. For example, to get the first element of my_list, use index 0."
   ]
  },
  {
   "cell_type": "code",
   "execution_count": 12,
   "id": "2882c77f",
   "metadata": {},
   "outputs": [
    {
     "data": {
      "text/plain": [
       "1 (0x1)"
      ]
     },
     "execution_count": 12,
     "metadata": {},
     "output_type": "execute_result"
    }
   ],
   "source": [
    "my_list[0]"
   ]
  },
  {
   "cell_type": "markdown",
   "id": "18158ac3",
   "metadata": {},
   "source": [
    "Python also has several shortcuts to access list elements. For example: \n",
    " - to access the last element, use index -1.\n",
    " - to access elements between two indices i and j, use [i:j]. \n",
    "\n",
    "Let us see this in action."
   ]
  },
  {
   "cell_type": "code",
   "execution_count": 13,
   "id": "f77cb8e4",
   "metadata": {},
   "outputs": [
    {
     "data": {
      "text/plain": [
       "3 (0x3)"
      ]
     },
     "execution_count": 13,
     "metadata": {},
     "output_type": "execute_result"
    }
   ],
   "source": [
    "my_list[-1]"
   ]
  },
  {
   "cell_type": "code",
   "execution_count": 14,
   "id": "7b1e426a",
   "metadata": {},
   "outputs": [
    {
     "data": {
      "text/plain": [
       "[1 (0x1), 2 (0x2)]"
      ]
     },
     "execution_count": 14,
     "metadata": {},
     "output_type": "execute_result"
    }
   ],
   "source": [
    "my_list[0:2]"
   ]
  },
  {
   "cell_type": "code",
   "execution_count": 15,
   "id": "37ba75f4",
   "metadata": {},
   "outputs": [
    {
     "data": {
      "text/plain": [
       "[1 (0x1), 2 (0x2), 3 (0x3)]"
      ]
     },
     "execution_count": 15,
     "metadata": {},
     "output_type": "execute_result"
    }
   ],
   "source": [
    "my_list"
   ]
  },
  {
   "cell_type": "markdown",
   "id": "365f0a24",
   "metadata": {},
   "source": [
    "#### 1.3 Function call\n",
    "A function is simply a “chunk” of code that you can use over and over again, rather than writing it out multiple times. Python has inbuilt functions and allows you to define your own functions too. In order to perform the task defined in the function, it needs to be \"called\".\n",
    "There are two ways to call functions in Python:\n",
    " - by pre-defined infix operator name. For e.g. +, /, etc.\n",
    " - by function name, followed by parentheses\n",
    " \n",
    "Let us see them both in action."
   ]
  },
  {
   "cell_type": "code",
   "execution_count": 16,
   "id": "0acefa32",
   "metadata": {},
   "outputs": [
    {
     "data": {
      "text/plain": [
       "3 (0x3)"
      ]
     },
     "execution_count": 16,
     "metadata": {},
     "output_type": "execute_result"
    }
   ],
   "source": [
    "# Infix operator\n",
    "1 + 2"
   ]
  },
  {
   "cell_type": "markdown",
   "id": "bdc46f43",
   "metadata": {},
   "source": [
    "#### Sidebar: import statements\n",
    "Python allows code defined in one file to be imported in other. This reduces the overhead of having to re-write code. There are some in-built libraries that perform commonly used tasks and can be imported directly. \n",
    "\n",
    "Optionally, you can write your own code and import it in another file too.\n",
    "\n",
    "\n",
    "For example, we will use the inbuilt library \"operator\" to perform addition. This corresponds to function call using function name."
   ]
  },
  {
   "cell_type": "code",
   "execution_count": 17,
   "id": "25f3d5de",
   "metadata": {},
   "outputs": [],
   "source": [
    "import operator"
   ]
  },
  {
   "cell_type": "code",
   "execution_count": 18,
   "id": "d3c589d1",
   "metadata": {},
   "outputs": [
    {
     "data": {
      "text/plain": [
       "3 (0x3)"
      ]
     },
     "execution_count": 18,
     "metadata": {},
     "output_type": "execute_result"
    }
   ],
   "source": [
    "# Call \"add\" function using parantheses. \n",
    "# Arguments are values passed to the function and are comma-separated.\n",
    "operator.add(1, 2)"
   ]
  },
  {
   "cell_type": "markdown",
   "id": "92f0f364",
   "metadata": {},
   "source": [
    "#### 1.4 Function definition\n",
    "You can also define your own functions that perform a specific set of tasks. Use the \"def\" keyword, followed by the function name and the arguments needed for that function. Functions can optionally return values too.\n",
    "\n",
    "Let us define a function that takes 2 input integers and returns their sum."
   ]
  },
  {
   "cell_type": "code",
   "execution_count": 19,
   "id": "615ca65f",
   "metadata": {},
   "outputs": [],
   "source": [
    "def my_add(a, b):\n",
    "    total = a + b\n",
    "    return total"
   ]
  },
  {
   "cell_type": "markdown",
   "id": "e1927f8d",
   "metadata": {},
   "source": [
    "Now let us use the function we created to see what values are returned. Remember, to \"call\" a function, you need to write the function name followed by parantheses and the arguments/values.\n",
    "\n",
    "You can also assign values returned by functions into variables."
   ]
  },
  {
   "cell_type": "code",
   "execution_count": 20,
   "id": "46ba068f",
   "metadata": {},
   "outputs": [],
   "source": [
    "value = my_add(1, 2)"
   ]
  },
  {
   "cell_type": "code",
   "execution_count": 21,
   "id": "b6ad8e19",
   "metadata": {},
   "outputs": [
    {
     "data": {
      "text/plain": [
       "3 (0x3)"
      ]
     },
     "execution_count": 21,
     "metadata": {},
     "output_type": "execute_result"
    }
   ],
   "source": [
    "value"
   ]
  },
  {
   "cell_type": "markdown",
   "id": "04c48bd5",
   "metadata": {},
   "source": [
    "You can use the same function as many times as needed, with different arguments to get the output you desire."
   ]
  },
  {
   "cell_type": "code",
   "execution_count": 22,
   "id": "547d44f4",
   "metadata": {},
   "outputs": [
    {
     "data": {
      "text/plain": [
       "7 (0x7)"
      ]
     },
     "execution_count": 22,
     "metadata": {},
     "output_type": "execute_result"
    }
   ],
   "source": [
    "my_add(3, 4)"
   ]
  },
  {
   "cell_type": "markdown",
   "id": "184742d2",
   "metadata": {},
   "source": [
    "### 2. In-built functions\n",
    "Let us explore some commonly used in-built functions."
   ]
  },
  {
   "cell_type": "markdown",
   "id": "9d5f8e2e",
   "metadata": {},
   "source": [
    "#### Print statement\n",
    "Allows you to print messages, variables, etc."
   ]
  },
  {
   "cell_type": "code",
   "execution_count": 23,
   "id": "3074a7be",
   "metadata": {},
   "outputs": [
    {
     "name": "stdout",
     "output_type": "stream",
     "text": [
      "Hello world\n"
     ]
    }
   ],
   "source": [
    "print(\"Hello world\")"
   ]
  },
  {
   "cell_type": "code",
   "execution_count": 24,
   "id": "0a2d3139",
   "metadata": {},
   "outputs": [
    {
     "name": "stdout",
     "output_type": "stream",
     "text": [
      "3\n"
     ]
    }
   ],
   "source": [
    "# Let us use the value computed from the function call previously and print that\n",
    "print(value)"
   ]
  },
  {
   "cell_type": "code",
   "execution_count": 25,
   "id": "db56fe99",
   "metadata": {},
   "outputs": [
    {
     "name": "stdout",
     "output_type": "stream",
     "text": [
      "9\n"
     ]
    }
   ],
   "source": [
    "# Let us call a function in the print statement and display the value\n",
    "print(my_add(4, 5))"
   ]
  },
  {
   "cell_type": "markdown",
   "id": "a22fd620",
   "metadata": {},
   "source": [
    "#### Sort statement\n",
    "You can use inbuilt functions to sort lists.\n",
    "Python lists have a built-in list.sort() method that modifies the list in-place. There is also a sorted() built-in function that builds a new sorted list from an iterable.\n",
    "\n",
    "More details can be found here: https://docs.python.org/3/howto/sorting.html"
   ]
  },
  {
   "cell_type": "code",
   "execution_count": 26,
   "id": "43a39691",
   "metadata": {},
   "outputs": [
    {
     "name": "stdout",
     "output_type": "stream",
     "text": [
      "[1, 2, 3, 4]\n"
     ]
    }
   ],
   "source": [
    "my_list = [1, 4, 2, 3]\n",
    "# Sort in-place i.e. existing list gets modified\n",
    "my_list.sort()\n",
    "print(my_list)"
   ]
  },
  {
   "cell_type": "code",
   "execution_count": 27,
   "id": "efd7fe61",
   "metadata": {},
   "outputs": [
    {
     "name": "stdout",
     "output_type": "stream",
     "text": [
      "[1, 2, 3, 4, 5]\n"
     ]
    }
   ],
   "source": [
    "# Create new sorted list and assign to a new list\n",
    "new_list = [5, 2, 3, 1, 4]\n",
    "sorted_new_list = sorted(new_list)\n",
    "print(sorted_new_list)"
   ]
  },
  {
   "cell_type": "markdown",
   "id": "43f27be1",
   "metadata": {},
   "source": [
    "#### Equality check\n",
    "You might want to check if two variables are equal. Use the == operator. This returns True if the values match, False otherwise."
   ]
  },
  {
   "cell_type": "code",
   "execution_count": 28,
   "id": "b0142b69",
   "metadata": {},
   "outputs": [],
   "source": [
    "# Assign values\n",
    "a = 5\n",
    "b = 5"
   ]
  },
  {
   "cell_type": "code",
   "execution_count": 29,
   "id": "c8017411",
   "metadata": {},
   "outputs": [
    {
     "data": {
      "text/plain": [
       "True"
      ]
     },
     "execution_count": 29,
     "metadata": {},
     "output_type": "execute_result"
    }
   ],
   "source": [
    "# Check equality\n",
    "a == b"
   ]
  },
  {
   "cell_type": "code",
   "execution_count": 30,
   "id": "8b228f2a",
   "metadata": {},
   "outputs": [],
   "source": [
    "# Assign new values\n",
    "a = 6\n",
    "b = 7"
   ]
  },
  {
   "cell_type": "code",
   "execution_count": 31,
   "id": "1e0f9946",
   "metadata": {},
   "outputs": [
    {
     "data": {
      "text/plain": [
       "False"
      ]
     },
     "execution_count": 31,
     "metadata": {},
     "output_type": "execute_result"
    }
   ],
   "source": [
    "# Check equality\n",
    "a == b"
   ]
  },
  {
   "cell_type": "markdown",
   "id": "828c5ea2",
   "metadata": {},
   "source": [
    "You can also check equality for other data types. For example, strings."
   ]
  },
  {
   "cell_type": "code",
   "execution_count": 32,
   "id": "20be637a",
   "metadata": {},
   "outputs": [
    {
     "name": "stdout",
     "output_type": "stream",
     "text": [
      "False\n"
     ]
    }
   ],
   "source": [
    "str1 = \"apple\"\n",
    "str2 = \"mango\"\n",
    "print(str1 == str2)"
   ]
  },
  {
   "cell_type": "markdown",
   "id": "9773d4a0",
   "metadata": {},
   "source": [
    "## Conclusion\n",
    "These are some helpful tips to get you started on your Python journey. Refer to the documentation for more information."
   ]
  }
 ],
 "metadata": {
  "kernelspec": {
   "display_name": "Python 3 (ipykernel)",
   "language": "python",
   "name": "python3"
  },
  "language_info": {
   "codemirror_mode": {
    "name": "ipython",
    "version": 3
   },
   "file_extension": ".py",
   "mimetype": "text/x-python",
   "name": "python",
   "nbconvert_exporter": "python",
   "pygments_lexer": "ipython3",
   "version": "3.9.6"
  }
 },
 "nbformat": 4,
 "nbformat_minor": 5
}
